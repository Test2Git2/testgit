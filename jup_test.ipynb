{
 "cells": [
  {
   "cell_type": "markdown",
   "id": "7059215d",
   "metadata": {},
   "source": [
    "# jup_test"
   ]
  },
  {
   "cell_type": "code",
   "execution_count": 1,
   "id": "6e1675dd",
   "metadata": {},
   "outputs": [
    {
     "name": "stdout",
     "output_type": "stream",
     "text": [
      "jup_test\n"
     ]
    }
   ],
   "source": [
    "print('jup_test')"
   ]
  },
  {
   "cell_type": "code",
   "execution_count": null,
   "id": "522f5760",
   "metadata": {},
   "outputs": [],
   "source": []
  }
 ],
 "metadata": {
  "kernelspec": {
   "display_name": "Python 3",
   "language": "python",
   "name": "python3"
  },
  "language_info": {
   "codemirror_mode": {
    "name": "ipython",
    "version": 3
   },
   "file_extension": ".py",
   "mimetype": "text/x-python",
   "name": "python",
   "nbconvert_exporter": "python",
   "pygments_lexer": "ipython3",
   "version": "3.12.7"
  }
 },
 "nbformat": 4,
 "nbformat_minor": 5
}
